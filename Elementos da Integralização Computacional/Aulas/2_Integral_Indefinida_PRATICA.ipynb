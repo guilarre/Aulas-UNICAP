{
  "cells": [
    {
      "cell_type": "markdown",
      "id": "fdd608ba-1881-4715-b4f9-a9483f0177d5",
      "metadata": {},
      "source": [
        "<h align=left><font size = 12, > Integral Indefinida     $$\\int$$ <br> </font></h>"
      ]
    },
    {
      "cell_type": "markdown",
      "id": "161dae16-f382-4b89-89ec-a9b21ef8b790",
      "metadata": {
        "tags": []
      },
      "source": [
        "##### <img src='https://media.tenor.com/b_H2NzI7UYAAAAAM/confused-what.gif' width=600 > <br>\n",
        "[imagem 0](https://media.tenor.com/b_H2NzI7UYAAAAAM/confused-what.gif)"
      ]
    },
    {
      "cell_type": "markdown",
      "id": "c404be68-62bb-4e6f-a87c-4dbbd8b109ed",
      "metadata": {
        "tags": []
      },
      "source": [
        "# **_[Integral INDEFINIDA](https://www.youtube.com/watch?v=UTELlQivogs&list=PLN0ZrxDaBfhiN1E0p2yL5GyPUm4PATF_A)_** "
      ]
    },
    {
      "cell_type": "markdown",
      "id": "f6c453c3-cb08-4b1b-9d68-480d85f39a1d",
      "metadata": {
        "jp-MarkdownHeadingCollapsed": true,
        "tags": []
      },
      "source": [
        "## Definição"
      ]
    },
    {
      "cell_type": "markdown",
      "id": "395e3ec8-8035-4543-9e47-1f573d78dc26",
      "metadata": {},
      "source": [
        "Em notação matemática, a integração indefinida é frequentemente representada da seguinte forma:\n",
        "\n",
        "$$  \\int f(x) \\, dx = F(x) + C $$\n",
        "\n",
        "Nesta expressão:\n",
        "\n",
        "- $ \\int $ é o símbolo de integração.\n",
        "- $ f(x) $ é a função que você deseja integrar.\n",
        "- $ dx $ indica que estamos integrando em relação à variável $ x $.\n",
        "- $ F(x) $ é a função resultante da integração, que representa a família de funções cujas derivadas são iguais a $ f(x) $.\n",
        "- $ C $ é uma constante chamada de \"constante de integração\" e pode assumir qualquer valor real.\n",
        "\n",
        ">> _Importante:_ A constante de integração $ C $ é importante porque, ao derivar uma função, você perde informações sobre uma possível constante que estava presente na função original. Portanto, ao realizar uma integração indefinida, é necessário incluir a constante de integração \\( C \\) para representar todas as possíveis soluções."
      ]
    },
    {
      "cell_type": "markdown",
      "id": "c292df7b-279d-46d1-a251-15b39d2de6c8",
      "metadata": {
        "jp-MarkdownHeadingCollapsed": true,
        "tags": []
      },
      "source": [
        "## Primitiva "
      ]
    },
    {
      "cell_type": "markdown",
      "id": "27b587c8-a7d5-463f-8f0a-4c3a9c82e8c9",
      "metadata": {},
      "source": [
        "<hr>\n",
        "Em cálculo, a \"primitiva\" de uma função é um conceito relacionado à integral indefinida ou antiderivada. A primitiva de uma função é outra função cuja derivada é igual à função original.\n",
        "\n",
        "Se tivermos uma função $f(x)$, a sua primitiva é geralmente representada como $F(x) + C$, onde $F(x)$ é a antiderivada de $f(x)$, e $C$ é uma constante de integração. A constante de integração é incluída porque, quando você deriva uma constante, ela se torna zero, então várias funções podem ter a mesma derivada, mas diferem por uma constante.\n",
        "\n",
        "Matematicamente, podemos expressar isso da seguinte forma:\n",
        "\n",
        "$$F'(x) = f(x)$$\n",
        "\n",
        "O símbolo $F'(x)$ representa a derivada da função $F(x)$ em relação a $x$, que é igual à função original $f(x)$.\n",
        "\n",
        "O processo de encontrar a primitiva de uma função é chamado de integração indefinida e é uma parte fundamental do cálculo integral. O símbolo usado para representar a integral indefinida de uma função $f(x)$ é $∫f(x) dx$, onde $dx$ indica a variável de integração (geralmente x) e o resultado é uma função que inclui uma constante de integração.\n",
        "\n",
        "Por exemplo, se tivermos a função $f(x) = 2x$, sua primitiva $F(x)$ será:\n",
        "\n",
        "$$F(x) =∫2x dx = x^2 + C$$\n",
        "\n",
        "Neste caso, a primitiva de $2x$ é $x^2 + C$, onde $C$ é a constante de integração.\n",
        "\n",
        "Calcular primitivas de funções é uma parte importante do cálculo, pois é fundamental para encontrar áreas sob curvas, calcular trabalho, entre outras aplicações em matemática e ciências.>> As integrais definidas e indefinidas são conceitos relacionados à matemática, mas têm propósitos e definições diferentes.\n",
        "\n",
        "<hr>\n"
      ]
    },
    {
      "cell_type": "markdown",
      "id": "2c4cb46d-462c-4609-9de1-21611283d4f9",
      "metadata": {},
      "source": [
        "\n",
        "<img src='data:image/png;base64,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'> <br>\n",
        "[imagem 2](data:image/png;base64,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)\n"
      ]
    },
    {
      "cell_type": "markdown",
      "id": "f5a481ab-115e-44f8-8d13-8316b0f7110b",
      "metadata": {},
      "source": [
        "<hr>\n",
        "\n",
        "> Uma integral indefinida, também conhecida como primitiva, é usada para `encontrar uma família de funções cujas derivadas sejam iguais à função original`(veja a figura abaixo). "
      ]
    },
    {
      "cell_type": "markdown",
      "id": "6320b1f8-4a23-4861-a00f-1525100f9d0e",
      "metadata": {
        "tags": []
      },
      "source": [
        "<img src='http://138.100.100.254/index/departamentos/matematicas/miWeb4/integral_indefinida/indefinida_teoria/grafica_matlab_07.gif'>\n",
        "\n",
        "[image](http://138.100.100.254/index/departamentos/matematicas/miWeb4/integral_indefinida/indefinida_teoria/grafica_matlab_07.gif)"
      ]
    },
    {
      "cell_type": "markdown",
      "id": "07095208-0dd5-4379-bac8-bf5e6d7d87e7",
      "metadata": {},
      "source": [
        "**Propósito da Integral Indefinida** <br>\n",
        "- Encontrar uma função cuja derivada é igual a uma função dada.\n",
        "- Não envolve limites de integração.\n",
        "- O resultado é uma função mais uma constante.\n",
        "<hr>"
      ]
    },
    {
      "cell_type": "markdown",
      "id": "4c7ece6b-feb5-4428-bc6c-d4248ac16271",
      "metadata": {
        "tags": []
      },
      "source": [
        "<img src='https://24.media.tumblr.com/721f469fa57fafa297f608654acf2051/tumblr_n3burmQbib1qd347qo1_400.gif'> <br>\n",
        "[imagem 1](https://24.media.tumblr.com/721f469fa57fafa297f608654acf2051/tumblr_n3burmQbib1qd347qo1_400.gif)"
      ]
    },
    {
      "cell_type": "markdown",
      "id": "37fdf349-406a-4710-8954-44f2cdc1d80a",
      "metadata": {},
      "source": [
        "<hr>\n",
        "\n",
        "**Por exemplo**, a integral indefinida de $ x^2 $ em relação a $ x $ é:\n",
        "\n",
        "$$ \\int x^2 dx = \\frac{1}{3}x^3 + C $$\n",
        "\n",
        "Aqui, $\\frac{1}{3}x^3 $ é a função $ F(x) $ que, quando derivada, resulta em $ x^2 $, e $ C $ é a constante de integração.\n",
        "\n",
        "<hr>"
      ]
    },
    {
      "cell_type": "markdown",
      "id": "581cdf44-cee9-4332-ab48-4f585f7e890b",
      "metadata": {},
      "source": [
        "**Exemplos**\n",
        "\n",
        "1. $$ \\int x^2 dx  -     -    ->   \\frac{1}{3} x^3 + C$$.\n",
        "\n",
        "2. $$ \\int x^3 dx  -     -    ->   \\frac{1}{4} x^4 + C$$.\n",
        "\n",
        "3. $$ \\int x^4 dx  -     -    ->   \\frac{1}{5} x^5 + C$$.\n",
        "\n",
        "\n",
        "perceba a repetição --> Será a regra do poder???"
      ]
    },
    {
      "cell_type": "markdown",
      "id": "5d894126-f488-4807-95f1-1ab5575d7591",
      "metadata": {
        "tags": []
      },
      "source": [
        "**Exemplos**\n",
        "\n",
        "$$( \\cos(x) )'  -     -    ->  - \\sin(x)$$\n",
        "|\n",
        "| Cuidado com o signo ( - )\n",
        "\n",
        "$$ \\int \\sin(x) \\, dx  -     -    ->    -\\cos(x) + C $$\n"
      ]
    },
    {
      "cell_type": "markdown",
      "id": "f6a62356-4b2c-40fa-aadd-774bea40ead8",
      "metadata": {
        "tags": []
      },
      "source": [
        "## Regras fundamentais da integral indefinida [Primitiva]"
      ]
    },
    {
      "cell_type": "markdown",
      "id": "c80027b5-0271-4068-b138-f1b43c48f253",
      "metadata": {
        "tags": []
      },
      "source": [
        ">> As regras básicas da integral indefinida, também conhecida como `primitiva`, são semelhantes às regras da diferenciação, mas ao contrário."
      ]
    },
    {
      "cell_type": "markdown",
      "id": "25da9bab-e998-4485-a1e0-c6596f5ae23b",
      "metadata": {
        "tags": []
      },
      "source": [
        "### **Regra do Poder == Regra da potência** "
      ]
    },
    {
      "cell_type": "markdown",
      "id": "2327467e-1858-4a5a-a910-d8ae48e3d96f",
      "metadata": {},
      "source": [
        "A integral de $ x^k $ em relação a $ x $, onde $ k $ é uma constante, é igual a $ \\frac{1}{k+1} x^{k+1} + C $, onde $ C $ é a constante de integração.\n",
        "\n",
        "   $$ \\int x^k \\, dx    =    \\frac{1}{k+1} x^{k+1} + C $$"
      ]
    },
    {
      "cell_type": "markdown",
      "id": "ff4600b3-c01a-48be-b264-a480b23bed60",
      "metadata": {
        "tags": []
      },
      "source": [
        "### **Regra da Constante** <br>"
      ]
    },
    {
      "cell_type": "markdown",
      "id": "12b642b4-4cfe-4cb6-b7c9-385bd5045a33",
      "metadata": {},
      "source": [
        "A integral de uma constante é igual à constante multiplicada pela variável de integração, acrescida de uma constante de integração \\(C\\):\n",
        "   \n",
        "   $$ \\int k \\, dx = kx + C $$\n",
        "\n",
        "   Onde \\(k\\) é uma constante."
      ]
    },
    {
      "cell_type": "markdown",
      "id": "2c8be095-b84e-44f6-a6b4-cc96dd52b1c5",
      "metadata": {
        "tags": []
      },
      "source": [
        "### **Regra da Soma/Diferença** "
      ]
    },
    {
      "cell_type": "markdown",
      "id": "3f95e58c-6771-4ed7-a189-2bffa0c23eff",
      "metadata": {
        "tags": []
      },
      "source": [
        "A integral da soma ou diferença de duas funções é igual à soma ou diferença das integrais das funções individuais:\n",
        "\n",
        "   $$ \\int [f(x) + g(x)] dx =  \\int f(x) \\, dx + \\int g(x) \\, dx $$\n",
        "   \n",
        "   <br>\n",
        "\n",
        "   $$ \\int [f(x) - g(x)] dx =  \\int f(x) \\, dx - \\int g(x) \\, dx $$"
      ]
    },
    {
      "cell_type": "markdown",
      "id": "4c2225e2-c703-492c-954c-d0965bed185d",
      "metadata": {
        "tags": []
      },
      "source": [
        "### **Regra do Produto por Constante**"
      ]
    },
    {
      "cell_type": "markdown",
      "id": "e8040eaf-5e2d-48d3-8821-e829e503b900",
      "metadata": {},
      "source": [
        "Se você tiver uma constante multiplicando uma função, pode retirar a constante da integral:\n",
        "\n",
        "   $$ \\int k \\cdot f(x) \\, dx = k \\int f(x) \\, dx $$\n",
        "\n",
        "   Onde $ k $ é uma constante."
      ]
    },
    {
      "cell_type": "markdown",
      "id": "4da0a22d-4632-4a93-a511-e0878d204f5a",
      "metadata": {
        "tags": []
      },
      "source": [
        "### **Regra da Exponencial** "
      ]
    },
    {
      "cell_type": "markdown",
      "id": "217cf9af-3f77-4bff-807e-827f9a1cdba6",
      "metadata": {},
      "source": [
        "\n",
        "   $$ \\int e^x \\, dx = e^x + C $$\n"
      ]
    },
    {
      "cell_type": "markdown",
      "id": "88b72558-33fb-4657-9847-4bc877e5d88a",
      "metadata": {
        "tags": []
      },
      "source": [
        "### **Regra da Função Composta** "
      ]
    },
    {
      "cell_type": "markdown",
      "id": "449365c9-09bd-409c-8679-ca78bdf45b6e",
      "metadata": {},
      "source": [
        "A integral de uma função composta $u(f(x))$ é dada pela fórmula de substituição:\n",
        "\n",
        "   $$ \\int u(f(x)) \\, dx = \\int u(u) \\, du $$\n",
        "\n",
        "   Onde $ u $ é uma função de $ x $ e $ du $ é a derivada de $ u $ em relação a $ x $."
      ]
    },
    {
      "cell_type": "markdown",
      "id": "0d959828-d54c-46e7-af37-f1ac96ecc84c",
      "metadata": {
        "tags": []
      },
      "source": [
        "### **Raiz** "
      ]
    },
    {
      "cell_type": "markdown",
      "id": "f81ddae9-197f-400d-a0a5-ef89602b5103",
      "metadata": {
        "tags": []
      },
      "source": [
        "$$\\int√x dx =  x^\\frac{1}{2} + C $$ \n",
        "\n",
        "\n",
        "Você pode reescrever $ √x$ como $xˆ\\frac{1}{2}$ e aplicar a regra de potência:"
      ]
    },
    {
      "cell_type": "markdown",
      "id": "06da6c87-765d-4b5c-8d8e-99d618f9d027",
      "metadata": {
        "tags": []
      },
      "source": [
        "### **Logaritmo Natural** "
      ]
    },
    {
      "cell_type": "markdown",
      "id": "19046d88-f0c8-4f09-ad65-78d29ca642eb",
      "metadata": {},
      "source": [
        "\n",
        "<br>\n",
        "   $$ \\int \\ln(x) \\, dx = x\\ln(x) - x + C $$"
      ]
    },
    {
      "cell_type": "markdown",
      "id": "63e634c6-93ba-4594-82cf-7ca67749ce2b",
      "metadata": {
        "tags": []
      },
      "source": [
        "### **Regra das Funções Trigonométricas** "
      ]
    },
    {
      "cell_type": "markdown",
      "id": "8e1f001e-5982-4cfb-a634-0ea37fc37c42",
      "metadata": {},
      "source": [
        "Existem fórmulas específicas para as integrais de funções trigonométricas, como seno, cosseno, tangente, secante, entre outras."
      ]
    },
    {
      "cell_type": "markdown",
      "id": "2d68ca63-12ad-4593-a6a3-5ed4f72cfe1d",
      "metadata": {},
      "source": [
        "1. **Integral de sen(x)**\n",
        "   \n",
        "   $$ \\int \\sin(x) \\, dx = -\\cos(x) + C $$\n",
        "\n",
        "2. **Integral de cos(x)**\n",
        "   \n",
        "   $$ \\int \\cos(x) \\, dx = \\sin(x) + C $$\n",
        "\n",
        "3. **Integral de sec^2(x) (derivada de tan(x))**\n",
        "   \n",
        "   $$ \\int \\sec^2(x) \\, dx = \\tan(x) + C $$\n",
        "\n",
        "4. **Integral de csc(x) cot(x) (derivada de -csc(x))**\n",
        "   \n",
        "  $$ \\int \\csc(x) \\cot(x) \\, dx = -\\csc(x) + C $$\n",
        "\n",
        "5. **Integral de sec(x) tan(x) (derivada de sec(x))**\n",
        "   \n",
        "   $$ \\int \\sec(x) \\tan(x) \\, dx = \\sec(x) + C $$\n",
        "\n",
        "6. **Integral de csc^2(x) (derivada de -cot(x))**\n",
        "   \n",
        "   $$ \\int \\csc^2(x) \\, dx = -\\cot(x) + C  $$\n",
        "\n",
        "7. **Integral de** $ 1/√(1-x^2) $ **(derivada de arcsin(x)**):\n",
        "   \n",
        "   $$ \\int \\frac{1}{\\sqrt{1-x^2}} \\, dx = \\arcsin(x) + C $$\n",
        "\n",
        "8. **Integral de $1/√(1+x^2)$ (derivada de arctan(x)):**\n",
        "   \n",
        "   $$ \\int \\frac{1}{\\sqrt{1+x^2}} \\, dx = \\arctan(x) + C $$"
      ]
    },
    {
      "cell_type": "markdown",
      "id": "a12de274-1b42-4f08-b795-71c78bef0ea9",
      "metadata": {
        "tags": []
      },
      "source": [
        "## **Regra de Substituição** "
      ]
    },
    {
      "cell_type": "markdown",
      "id": "f950194c-2d4b-4efc-9607-e2893fd2fac7",
      "metadata": {},
      "source": [
        "A regra de substituição é uma técnica importante para calcular integrais indefinidas mais complexas. Ela envolve a substituição de uma variável por outra para simplificar a integral. A regra de substituição também é conhecida como `método (u)` ou \"método de mudança de variável\". "
      ]
    },
    {
      "cell_type": "markdown",
      "id": "5d45ce9c-3cf1-440f-a27b-59ae929247d6",
      "metadata": {
        "tags": []
      },
      "source": [
        ">> Aqui está como ela funciona:\n",
        "\n",
        "Suponha que você tenha uma integral indefinida da forma:\n",
        "\n",
        "$$ \\int f(u) \\cdot du $$\n",
        "\n",
        "onde $ u $ é uma função de $ x $, ou seja, $ u = g(x) $. Para simplificar a integral, você pode seguir estas etapas:\n",
        "\n",
        "1. **Escolha uma substituição apropriada** <br>\n",
        "Selecione uma função $ u $ tal que a derivada de $ u $ com relação a $ x $ --> $ \\frac{du}{dx} $ esteja presente na integral e torne a integral mais simples. Ou seja, escolha $ u $ de modo que $ du = \\frac{du}{dx} \\cdot dx $ esteja presente na integral.\n",
        "\n",
        "2. **Calcule $ du $**<br>\n",
        "Calcule a derivada de $ u $ em relação a $ x $, ou seja, $ \\frac{du}{dx} $. Isso lhe dará a relação entre $ du $ e $ dx $.\n",
        "\n",
        "3. **Faça a substituição** <br>\n",
        "Substitua $ u $ na integral e também substitua $ du $ usando a relação $ du = \\frac{du}{dx} \\cdot dx $.\n",
        "\n",
        "4. **Integre em relação a $u$** <br>\n",
        "A integral agora se tornou uma integral mais simples em relação a $ u $. Integre $ f(u) $ em relação a $ u $.\n",
        "\n",
        "5. **Reverta a substituição** <br>\n",
        "Após a integração em relação a $ u $, obtenha a resposta em termos de $ x $ novamente substituindo $ u $ de volta por $ g(x) $.\n",
        "<br>\n",
        "\n",
        "6. **Adicione uma constante de integração** <br>\n",
        "Não se esqueça de incluir uma constante de integração $ C $ ao final, pois a integral indefinida produz uma família de funções.\n"
      ]
    },
    {
      "cell_type": "markdown",
      "id": "cfde645c-a631-492d-bb69-b99d52ea4d1a",
      "metadata": {
        "tags": []
      },
      "source": [
        "<hr>\n",
        "\n",
        "- Aqui está um exemplo passo a passo para ilustrar a regra de substituição:\n",
        "\n",
        "Suponha que você deseje calcular a integral indefinida:\n",
        "\n",
        "$$ \\int 2x \\cdot \\cos(x^2) \\, dx $$\n",
        "\n",
        "<hr>"
      ]
    },
    {
      "cell_type": "markdown",
      "id": "ef714503-0d6e-453e-a3cb-494a2090c5a0",
      "metadata": {
        "tags": []
      },
      "source": [
        "Passo a passo:\n",
        "\n",
        "1. **Escolha uma substituição apropriada:** Neste caso, você pode escolher $ u = x^2 $, então $$ \\frac{du}{dx} = 2x $$\n",
        "\n",
        "2. **Calcule $ du $:** $$ \\frac{du}{dx} = 2x  $$, então $$ du = 2x \\, dx $$.\n",
        "\n",
        "3. **Faça a substituição:** Substitua $ u $ e $ du $ na integral:\n",
        "\n",
        "   $$ \\int \\cos(u) \\cdot \\frac{1}{2} \\, du $$\n",
        "\n",
        "4. **Integre em relação a $ u $:** Agora a integral é mais simples:\n",
        "\n",
        "   $$ \\frac{1}{2} \\int \\cos(u) \\, du = \\frac{1}{2} \\cdot \\sin(u) + C $$\n",
        "\n",
        "5. **Reverta a substituição:** Substitua $ u $ por $ x^2 $:\n",
        "\n",
        "   $$ \\frac{1}{2} \\sin(x^2) + C $$\n",
        "\n",
        "6. **Adicione uma constante de integração:** Finalmente, não se esqueça da constante de integração \\( C \\).\n",
        "\n",
        "Então, a integral indefinida original é:\n",
        "\n",
        "$$ \\frac{1}{2} \\sin(x^2) + C $$"
      ]
    },
    {
      "cell_type": "markdown",
      "id": "a66a471d-3551-4f6f-a461-a9059c013593",
      "metadata": {
        "tags": []
      },
      "source": [
        "> Isso conclui o processo de integração por substituição. É uma técnica muito útil para simplificar integrais indefinidas mais complexas"
      ]
    },
    {
      "cell_type": "markdown",
      "id": "0efdf90a-80f5-46cc-b8a1-80e333133183",
      "metadata": {
        "tags": []
      },
      "source": [
        "."
      ]
    },
    {
      "cell_type": "markdown",
      "id": "78a778bb-b3dc-4a4e-85e9-56db74346168",
      "metadata": {
        "tags": []
      },
      "source": [
        "## **Regra de Fração Parcial** "
      ]
    },
    {
      "cell_type": "markdown",
      "id": "c27e3222-a819-4470-ae12-0bdb7666765d",
      "metadata": {},
      "source": [
        "A integração de frações racionais pode ser resolvida usando a técnica de fração parcial para decompor a função em termos mais simples."
      ]
    },
    {
      "cell_type": "markdown",
      "id": "5cbd41e0-bf86-4a98-becd-fddf5308aa0c",
      "metadata": {
        "tags": []
      },
      "source": [
        "## **Regra de Integração por Partes** "
      ]
    },
    {
      "cell_type": "markdown",
      "id": "e5e7b27f-4a55-4b15-abb2-1e147429e2e4",
      "metadata": {},
      "source": [
        "Esta regra é uma forma de integração que é análoga ao produto da derivada, e é útil para integrais de produtos de funções."
      ]
    },
    {
      "cell_type": "markdown",
      "id": "cbfaef46-7daf-4d9d-89fe-c328579785fe",
      "metadata": {
        "jp-MarkdownHeadingCollapsed": true,
        "tags": []
      },
      "source": [
        "## **Regra de Integração por Funções Hiperbólicas** "
      ]
    },
    {
      "cell_type": "markdown",
      "id": "a07b6e7c-7e7e-403f-9ea5-00c5e774f9d6",
      "metadata": {},
      "source": [
        "Existem regras especiais para integrais de funções hiperbólicas como seno hiperbólico e cosseno hiperbólico."
      ]
    },
    {
      "cell_type": "markdown",
      "id": "ae3a2af0-54b5-49b9-9b67-ea396982e7b1",
      "metadata": {},
      "source": [
        "<hr>\n",
        "\n",
        "> Ao aplicar essas regras, você pode calcular a integral indefinida de várias funções. É importante lembrar que a integral indefinida geralmente inclui uma constante de integração \\(C\\), já que a primitiva de uma função não é única, mas varia por uma constante.\n",
        "\n",
        "<hr>"
      ]
    },
    {
      "cell_type": "markdown",
      "id": "e80f2f59-5921-4ac6-8787-886b52b89f23",
      "metadata": {
        "jp-MarkdownHeadingCollapsed": true,
        "tags": []
      },
      "source": [
        "## Exemplos: Python"
      ]
    },
    {
      "cell_type": "markdown",
      "id": "6aa6a6ed-211e-498c-89f9-92fe215db579",
      "metadata": {
        "tags": []
      },
      "source": [
        "- Exemplo 1 --> "
      ]
    },
    {
      "cell_type": "markdown",
      "id": "b353df4d-3911-4ef8-9dd6-6281dd473591",
      "metadata": {
        "tags": []
      },
      "source": [
        "> Para calcular e visualizar uma integral indefinida (ou seja, uma primitiva) de uma função em Python, você pode usar as bibliotecas `NumPy` e `Matplotlib` para gerar gráficos. Vou fornecer um exemplo simples usando a seguinte função como exemplo <br>\n",
        "\n",
        "$$  f(x) = 2x  $$ \n",
        "\n",
        "<br>"
      ]
    },
    {
      "cell_type": "code",
      "execution_count": 1,
      "id": "2264ab0b-fe30-4493-8887-a91c50bd0e90",
      "metadata": {
        "tags": []
      },
      "outputs": [
        {
          "data": {
            "image/png": "[encoded data removed]",
            "text/plain": [
              "<Figure size 1000x600 with 1 Axes>"
            ]
          },
          "metadata": {},
          "output_type": "display_data"
        }
      ],
      "source": [
        "import numpy as np\n",
        "import matplotlib.pyplot as plt\n",
        "\n",
        "# Defina a função que você deseja integrar\n",
        "def f(x):\n",
        "    return 2 * x\n",
        "\n",
        "# Defina o intervalo de x\n",
        "x = np.linspace(-5, 5, 400)  # Cria um conjunto de pontos x\n",
        "\n",
        "# Calcule a integral indefinida (primitiva) da função\n",
        "F = np.cumsum(f(x)) * (x[1] - x[0])  # Usando a soma cumulativa\n",
        "\n",
        "# Plote a função original e sua primitiva\n",
        "plt.figure(figsize=(10, 6))\n",
        "plt.plot(x, f(x), label='f(x) = 2x', color='blue')\n",
        "plt.plot(x, F, label='Primitiva de f(x)', color='red')\n",
        "\n",
        "# Adicione rótulos e legenda ao gráfico\n",
        "plt.xlabel('x')\n",
        "plt.ylabel('y')\n",
        "plt.legend()\n",
        "\n",
        "# Mostrar o gráfico\n",
        "plt.grid(True)\n",
        "plt.title('Função e Sua Primitiva')\n",
        "plt.show()"
      ]
    },
    {
      "cell_type": "code",
      "execution_count": 2,
      "id": "03c05a70-9fbe-4845-afe6-85e88f58701b",
      "metadata": {
        "tags": []
      },
      "outputs": [],
      "source": [
        "import sympy as sp\n",
        "\n",
        "# Defina a variável simbólica\n",
        "x = sp.symbols('x')"
      ]
    },
    {
      "cell_type": "markdown",
      "id": "51f8e12f-0d68-49c3-9b74-22f0f93bc1e6",
      "metadata": {},
      "source": [
        "- Exemplo 2: **Integral Indefinida Básica**"
      ]
    },
    {
      "cell_type": "code",
      "execution_count": 3,
      "id": "4daf6479-f88c-4ad1-bf06-0b6392a4b958",
      "metadata": {
        "tags": []
      },
      "outputs": [
        {
          "name": "stdout",
          "output_type": "stream",
          "text": [
            "A integral indefinida de \n",
            "\n",
            "   x^2  --> x**3/3\n"
          ]
        }
      ],
      "source": [
        "\n",
        "# Defina a função que deseja integrar\n",
        "f = x**2\n",
        "\n",
        "# Calcule a integral indefinida\n",
        "integral = sp.integrate(f, x)\n",
        "\n",
        "# Imprima o resultado\n",
        "print(\"A integral indefinida de \\n\\n   x^2  -->\", integral)\n"
      ]
    },
    {
      "cell_type": "markdown",
      "id": "3043dae8-9581-4455-bda4-ab964cb46d27",
      "metadata": {
        "tags": []
      },
      "source": [
        "- Exemplo 3: **Integral Indefinida com Constante de Integração**"
      ]
    },
    {
      "cell_type": "code",
      "execution_count": 4,
      "id": "7a112800-d743-439c-b340-11a623e22e86",
      "metadata": {
        "tags": []
      },
      "outputs": [
        {
          "name": "stdout",
          "output_type": "stream",
          "text": [
            "Integral indefinida de \n",
            "\n",
            "  x^2 com constante de integração -->  C + 7*x**3/3\n"
          ]
        }
      ],
      "source": [
        "# Defina a função que deseja integrar\n",
        "f = 7*x**2\n",
        "\n",
        "# Calcule a integral indefinida com uma constante de integração\n",
        "integral = sp.integrate(f, x) + sp.Symbol('C')\n",
        "\n",
        "# Imprima o resultado\n",
        "print(\"Integral indefinida de \\n\\n  x^2 com constante de integração --> \",  integral )\n"
      ]
    },
    {
      "cell_type": "markdown",
      "id": "fa3b92a7-0622-49a0-aad1-b1b5e0a7bec0",
      "metadata": {
        "tags": []
      },
      "source": [
        "- Exemplo 4: **Integral Indefinida de Função Trigonométrica**"
      ]
    },
    {
      "cell_type": "code",
      "execution_count": 5,
      "id": "44f2e7e0-9683-4b62-bbf1-e897527c98a4",
      "metadata": {
        "tags": []
      },
      "outputs": [
        {
          "name": "stdout",
          "output_type": "stream",
          "text": [
            "Integral indefinida de \n",
            "\n",
            " sin(x) --> -cos(x)\n"
          ]
        }
      ],
      "source": [
        "# Defina a função que deseja integrar\n",
        "f = sp.sin(x)\n",
        "\n",
        "# Calcule a integral indefinida\n",
        "integral = sp.integrate(f, x)\n",
        "\n",
        "# Imprima o resultado\n",
        "print(\"Integral indefinida de \\n\\n sin(x) -->\", integral)\n"
      ]
    },
    {
      "cell_type": "markdown",
      "id": "ea94f787-b385-4ab2-b131-e7026521c1a1",
      "metadata": {},
      "source": [
        "- Exemplo 4: **Integral Indefinida de Função Exponencial**"
      ]
    },
    {
      "cell_type": "code",
      "execution_count": 6,
      "id": "d2ddb6ae-fd56-43a1-bd3a-b9554bb71b94",
      "metadata": {
        "tags": []
      },
      "outputs": [
        {
          "name": "stdout",
          "output_type": "stream",
          "text": [
            "Integral indefinida de \n",
            "\n",
            "  exp(x) --> exp(x)\n"
          ]
        }
      ],
      "source": [
        "# Defina a função que deseja integrar\n",
        "f = sp.exp(x)\n",
        "\n",
        "# Calcule a integral indefinida\n",
        "integral = sp.integrate(f, x)\n",
        "\n",
        "# Imprima o resultado\n",
        "print(\"Integral indefinida de \\n\\n  exp(x) -->\", integral)\n"
      ]
    },
    {
      "cell_type": "markdown",
      "id": "132d5697-9a26-49b2-9f0b-1cb3e455432d",
      "metadata": {},
      "source": [
        ">> A integração indefinida é uma parte fundamental do cálculo e tem muitas aplicações em matemática, física, engenharia e em muitas outras áreas da ciência e da engenharia."
      ]
    },
    {
      "cell_type": "markdown",
      "id": "cf2ba2d0-384b-43a6-ba40-b1d91620e43f",
      "metadata": {
        "tags": []
      },
      "source": [
        "# Recursos"
      ]
    },
    {
      "cell_type": "markdown",
      "id": "c834fc45-d6f8-448d-9143-01e219253bb2",
      "metadata": {},
      "source": [
        "link --> [lista_1 do curso: Q1-->Q5](https://universidadecatolica-my.sharepoint.com/:b:/g/personal/tulio_rodriguez_unicap_br/EQPLIGD04s9Hjtwt4ErfOR8BdJAqQObV2Us_FS6p3yjYig?e=5uXhkx)\n",
        "\n",
        "\n",
        "link --> [Tabela de integrais indefinidas](https://docs.ufpr.br/~jcvb/online/Tabelas%20de%20Integrais%20Indefinidas%20(1).pdf)\n",
        "\n",
        "link --> [Tabelas derivadas, integrais, identidades trigonometricas](https://www.if.ufrgs.br/tex/fisica-4/tab-integrais.pdf)\n",
        "\n",
        "link --> [Listas para praticar](https://www.ime.usp.br/~martha/mat2453-2003/lista3/L3.pdf)\n",
        "\n",
        "\n",
        "link --> [Listas](http://www.professores.im-uff.mat.br/hjbortol/disciplinas/2014.1/gma00108/listas/gma00108-lista-19.pdf)\n",
        "\n"
      ]
    }
  ],
  "metadata": {
    "kernel_info": {
      "name": "python"
    },
    "kernelspec": {
      "display_name": "Python 3",
      "language": "python",
      "name": "python3"
    },
    "language_info": {
      "codemirror_mode": {
        "name": "python",
        "version": 3
      },
      "file_extension": ".py",
      "mimetype": "text/x-python",
      "name": "python",
      "nbconvert_exporter": "python",
      "pygments_lexer": "ipython3",
      "version": "3.12.0"
    },
    "nteract": {
      "version": "nteract-front-end@1.0.0"
    },
    "toc-autonumbering": true
  },
  "nbformat": 4,
  "nbformat_minor": 5
}
